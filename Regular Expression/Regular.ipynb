{
 "cells": [
  {
   "cell_type": "markdown",
   "id": "3d397e21",
   "metadata": {},
   "source": [
    "#                                        Regular Expressions"
   ]
  },
  {
   "cell_type": "markdown",
   "id": "f5548038",
   "metadata": {},
   "source": [
    "## 1.) Write a Python program to check that a string contains only a certain set of characters (in this case a-z, A-Z and 0-9).\n",
    "\n"
   ]
  },
  {
   "cell_type": "code",
   "execution_count": 3,
   "id": "5f758cee",
   "metadata": {},
   "outputs": [],
   "source": [
    "import re"
   ]
  },
  {
   "cell_type": "code",
   "execution_count": 45,
   "id": "4635ca8c",
   "metadata": {},
   "outputs": [
    {
     "name": "stdout",
     "output_type": "stream",
     "text": [
      "The string contains only the specified characters.\n",
      "The string contains characters outside the specified set.\n"
     ]
    }
   ],
   "source": [
    "def check_string_characters(string):\n",
    "    pattern = r'^[a-zA-Z0-9]+$'\n",
    "    match = re.match(pattern, string)\n",
    "    if match:\n",
    "        print(\"The string contains only the specified characters.\")\n",
    "    else:\n",
    "        print(\"The string contains characters outside the specified set.\")\n",
    "\n",
    "check_string_characters('Test')\n",
    "check_string_characters('Test_1')"
   ]
  },
  {
   "cell_type": "markdown",
   "id": "3f35f388",
   "metadata": {},
   "source": [
    "## Question 2- Create a function in python that matches a string that has an a followed by zero or more b's"
   ]
  },
  {
   "cell_type": "code",
   "execution_count": 8,
   "id": "b0708af2",
   "metadata": {},
   "outputs": [
    {
     "name": "stdout",
     "output_type": "stream",
     "text": [
      "The string matches the pattern.\n",
      "The string matches the pattern.\n",
      "The string does not match the pattern.\n"
     ]
    }
   ],
   "source": [
    "def match_string(string):\n",
    "    pattern = r'ab*$'\n",
    "    match = re.match(pattern, string)\n",
    "    if match:\n",
    "        print(\"The string matches the pattern.\")\n",
    "    else:\n",
    "        print(\"The string does not match the pattern.\")\n",
    "\n",
    "match_string('abb')\n",
    "match_string('ab')\n",
    "match_string('d')"
   ]
  },
  {
   "cell_type": "markdown",
   "id": "8a55d643",
   "metadata": {},
   "source": [
    "## Question 3-  Create a function in python that matches a string that has an a followed by one or more b's"
   ]
  },
  {
   "cell_type": "code",
   "execution_count": 9,
   "id": "662e6dca",
   "metadata": {},
   "outputs": [
    {
     "name": "stdout",
     "output_type": "stream",
     "text": [
      "The string matches the pattern.\n",
      "The string matches the pattern.\n",
      "The string does not match the pattern.\n"
     ]
    }
   ],
   "source": [
    "def match_string(string):\n",
    "    pattern = r'ab+$'\n",
    "    match = re.match(pattern, string)\n",
    "    if match:\n",
    "        print(\"The string matches the pattern.\")\n",
    "    else:\n",
    "        print(\"The string does not match the pattern.\")\n",
    "\n",
    "match_string('abb')\n",
    "match_string('ab')\n",
    "match_string('a')"
   ]
  },
  {
   "cell_type": "markdown",
   "id": "9d476bfe",
   "metadata": {},
   "source": [
    "## Question 4- Create a function in Python and use RegEx that matches a string that has an a followed by zero or one 'b'.\n",
    "\n"
   ]
  },
  {
   "cell_type": "code",
   "execution_count": 10,
   "id": "ce1869fe",
   "metadata": {},
   "outputs": [
    {
     "name": "stdout",
     "output_type": "stream",
     "text": [
      "The string does not match the pattern.\n",
      "The string matches the pattern.\n",
      "The string matches the pattern.\n"
     ]
    }
   ],
   "source": [
    "def match_string(string):\n",
    "    pattern = r'ab?$'\n",
    "    match = re.match(pattern, string)\n",
    "    if match:\n",
    "        print(\"The string matches the pattern.\")\n",
    "    else:\n",
    "        print(\"The string does not match the pattern.\")\n",
    "\n",
    "match_string('abb')\n",
    "match_string('ab')\n",
    "match_string('a')"
   ]
  },
  {
   "cell_type": "markdown",
   "id": "13369a29",
   "metadata": {},
   "source": [
    "## Question 5- Write a Python program that matches a string that has an a followed by three 'b'.\n",
    "\n"
   ]
  },
  {
   "cell_type": "code",
   "execution_count": 11,
   "id": "0e72a82b",
   "metadata": {},
   "outputs": [
    {
     "name": "stdout",
     "output_type": "stream",
     "text": [
      "The string matches the pattern.\n",
      "The string does not match the pattern.\n",
      "The string does not match the pattern.\n"
     ]
    }
   ],
   "source": [
    "def match_string(string):\n",
    "    pattern = r'ab{3}$'\n",
    "    match = re.match(pattern, string)\n",
    "    if match:\n",
    "        print(\"The string matches the pattern.\")\n",
    "    else:\n",
    "        print(\"The string does not match the pattern.\")\n",
    "\n",
    "match_string('abbb')\n",
    "match_string('ab')\n",
    "match_string('a')"
   ]
  },
  {
   "cell_type": "markdown",
   "id": "9b42725e",
   "metadata": {},
   "source": [
    "## Question 6- Write a regular expression in Python to split a string into uppercase letters.\n",
    "Sample text: “ImportanceOfRegularExpressionsInPython”\n",
    "Output: [‘Importance’, ‘Of’, ‘Regular’, ‘Expression’, ‘In’, ‘Python’]\n",
    "\n"
   ]
  },
  {
   "cell_type": "code",
   "execution_count": 12,
   "id": "2fe5aca2",
   "metadata": {},
   "outputs": [
    {
     "name": "stdout",
     "output_type": "stream",
     "text": [
      "['Importance', 'Of', 'Regular', 'Expressions', 'In', 'Python']\n"
     ]
    }
   ],
   "source": [
    "text = \"ImportanceOfRegularExpressionsInPython\"\n",
    "result = [x for x in re.split(r'(?=[A-Z])', text) if x]\n",
    "print(result)\n",
    "\n"
   ]
  },
  {
   "cell_type": "markdown",
   "id": "cc2492cd",
   "metadata": {},
   "source": [
    "## Question 7- Write a Python program that matches a string that has an a followed by two to three 'b'.\n",
    "\n"
   ]
  },
  {
   "cell_type": "code",
   "execution_count": 13,
   "id": "c6b091b9",
   "metadata": {},
   "outputs": [
    {
     "name": "stdout",
     "output_type": "stream",
     "text": [
      "The string matches the pattern.\n",
      "The string matches the pattern.\n",
      "The string does not match the pattern.\n"
     ]
    }
   ],
   "source": [
    "def match_string(string):\n",
    "    pattern = r'ab{2}$|ab{3}$'\n",
    "    match = re.match(pattern, string)\n",
    "    if match:\n",
    "        print(\"The string matches the pattern.\")\n",
    "    else:\n",
    "        print(\"The string does not match the pattern.\")\n",
    "\n",
    "match_string('abbb')\n",
    "match_string('abb')\n",
    "match_string('a')"
   ]
  },
  {
   "cell_type": "markdown",
   "id": "38635858",
   "metadata": {},
   "source": [
    "## Question 8- Write a Python program to find sequences of lowercase letters joined with a underscore.\n",
    "\n"
   ]
  },
  {
   "cell_type": "code",
   "execution_count": 14,
   "id": "38d520b6",
   "metadata": {},
   "outputs": [
    {
     "name": "stdout",
     "output_type": "stream",
     "text": [
      "['his_is', 'sample_text', 'with_lowercase', 'this_one']\n"
     ]
    }
   ],
   "source": [
    "def find_lowercase_sequences(text):\n",
    "    pattern = r'[a-z]+_[a-z]+\\w'\n",
    "    matches = re.findall(pattern, text)\n",
    "    return matches\n",
    "\n",
    "text = \"This_is a sample_text with_lowercase like this_one\"\n",
    "sequences = find_lowercase_sequences(text)\n",
    "print(sequences)"
   ]
  },
  {
   "cell_type": "markdown",
   "id": "ca038d90",
   "metadata": {},
   "source": [
    "## Question 9- Write a Python program that matches a string that has an 'a' followed by anything, ending in 'b'.\n"
   ]
  },
  {
   "cell_type": "code",
   "execution_count": 17,
   "id": "2c2d43be",
   "metadata": {},
   "outputs": [
    {
     "name": "stdout",
     "output_type": "stream",
     "text": [
      "The string matches the pattern.\n",
      "The string does not match the pattern.\n",
      "The string matches the pattern.\n"
     ]
    }
   ],
   "source": [
    "def match_string(string):\n",
    "    pattern = r'a.*b$'\n",
    "    match = re.match(pattern, string)\n",
    "    if match:\n",
    "        print(\"The string matches the pattern.\")\n",
    "    else:\n",
    "        print(\"The string does not match the pattern.\")\n",
    "\n",
    "match_string('abb')\n",
    "match_string('aba')\n",
    "match_string('atestab')"
   ]
  },
  {
   "cell_type": "markdown",
   "id": "ea855e8f",
   "metadata": {},
   "source": [
    "## Question 10- Write a Python program that matches a word at the beginning of a string.\n",
    "\n"
   ]
  },
  {
   "cell_type": "code",
   "execution_count": 46,
   "id": "48f0e8ed",
   "metadata": {},
   "outputs": [
    {
     "name": "stdout",
     "output_type": "stream",
     "text": [
      "The word 'country' does not match at the beginning of the string.\n",
      "The word 'India' matches at the beginning of the string.\n"
     ]
    }
   ],
   "source": [
    "def match_word_at_beginning(string, word):\n",
    "    pattern = r'^\\b' + word\n",
    "    match = re.search(pattern, string)\n",
    "    if match:\n",
    "        print(\"The word '{}' matches at the beginning of the string.\".format(word))\n",
    "    else:\n",
    "        print(\"The word '{}' does not match at the beginning of the string.\".format(word))\n",
    "\n",
    "\n",
    "match_word_at_beginning(\"India is one of the world's most attractive countries .\", \"country\")\n",
    "match_word_at_beginning(\"India is one of the world's most attractive countries .\", \"India\")"
   ]
  },
  {
   "cell_type": "markdown",
   "id": "f95fd4e5",
   "metadata": {},
   "source": [
    "## Question 11- Write a Python program to match a string that contains only upper and lowercase letters, numbers, and underscores.\n",
    "\n"
   ]
  },
  {
   "cell_type": "code",
   "execution_count": 19,
   "id": "d41d9877",
   "metadata": {},
   "outputs": [
    {
     "name": "stdout",
     "output_type": "stream",
     "text": [
      "The string contains only the specified characters.\n",
      "The string contains only the specified characters.\n",
      "The string contains characters outside the specified set.\n"
     ]
    }
   ],
   "source": [
    "def check_string_characters(string):\n",
    "    pattern = r'^[a-zA-Z0-9_]+$'\n",
    "    match = re.match(pattern, string)\n",
    "    if match:\n",
    "        print(\"The string contains only the specified characters.\")\n",
    "    else:\n",
    "        print(\"The string contains characters outside the specified set.\")\n",
    "\n",
    "check_string_characters('test')\n",
    "check_string_characters('Test_1')\n",
    "check_string_characters('Test-1')"
   ]
  },
  {
   "cell_type": "markdown",
   "id": "f94d3bf6",
   "metadata": {},
   "source": [
    "## Question 12- Write a Python program where a string will start with a specific number. \n",
    "\n"
   ]
  },
  {
   "cell_type": "code",
   "execution_count": 47,
   "id": "c46049a8",
   "metadata": {},
   "outputs": [
    {
     "name": "stdout",
     "output_type": "stream",
     "text": [
      "The number '1' does not match at the beginning of the string.\n",
      "The number '1' matches at the beginning of the string.\n"
     ]
    }
   ],
   "source": [
    "def match_word_at_beginning(string, number):\n",
    "    pattern = r'^\\b' + number\n",
    "    match = re.search(pattern, string)\n",
    "    if match:\n",
    "        print(\"The number '{}' matches at the beginning of the string.\".format(number))\n",
    "    else:\n",
    "        print(\"The number '{}' does not match at the beginning of the string.\".format(number))\n",
    "\n",
    "\n",
    "match_word_at_beginning(\"India is one of the world's most attractive countries .\", \"1\")\n",
    "match_word_at_beginning(\"1. India is one of the world's most attractive countries .\", \"1\")"
   ]
  },
  {
   "cell_type": "markdown",
   "id": "52c3b453",
   "metadata": {},
   "source": [
    "## Question 13- Write a Python program to remove leading zeros from an IP address\n",
    "\n"
   ]
  },
  {
   "cell_type": "code",
   "execution_count": 21,
   "id": "ff82c1c6",
   "metadata": {},
   "outputs": [
    {
     "name": "stdout",
     "output_type": "stream",
     "text": [
      "192.168.1.2\n"
     ]
    }
   ],
   "source": [
    "def remove_leading_zeros(ip_address):\n",
    "    pattern = r'\\b0+(\\d)'\n",
    "    cleaned_ip_address = re.sub(pattern, r'\\1', ip_address)\n",
    "    return cleaned_ip_address\n",
    "\n",
    "ip_address = \"123.123.001.002\"\n",
    "cleaned_ip = remove_leading_zeros(ip_address)\n",
    "print(cleaned_ip)"
   ]
  },
  {
   "cell_type": "markdown",
   "id": "8d6f4ed5",
   "metadata": {},
   "source": [
    "## Question 14- Write a regular expression in python to match a date string in the form of Month name followed by day number and year stored in a text file.\n",
    "Sample text : ' On August 15th 1947 that India was declared independent from British colonialism, and the reins of control were handed over to the leaders of the Country’.\n",
    "Output- August 15th 1947\n",
    "Hint- Use re.match() method here\n",
    "\n"
   ]
  },
  {
   "cell_type": "code",
   "execution_count": 43,
   "id": "b90116d7",
   "metadata": {
    "scrolled": true
   },
   "outputs": [
    {
     "name": "stdout",
     "output_type": "stream",
     "text": [
      "['August 15th 1947']\n"
     ]
    }
   ],
   "source": [
    "def match_date_string(filename):\n",
    "    pattern = r\"(?:January|February|March|April|May|June|July|August|September|October|November|December)\\s+\\d{1,2}(?:st|nd|rd|th)?\\s+\\d{4}\"\n",
    "    matched_dates = []\n",
    "    with open(filename, 'r') as file:\n",
    "        for line in file:\n",
    "            match = re.search(pattern, text)\n",
    "        if match:\n",
    "            matched_dates.append(match.group())\n",
    "    return matched_dates\n",
    "\n",
    "text = \"On August 15th 1947 that India was declared independent from British colonialism, and the reins of control were handed over to the leaders of the Country.\"\n",
    "matched_date = match_date_string(\"data_1.txt\")\n",
    "print(matched_date)"
   ]
  },
  {
   "cell_type": "markdown",
   "id": "b337328a",
   "metadata": {},
   "source": [
    "## Question 15- Write a Python program to search some literals strings in a string. Go to the editor\n",
    "Sample text : 'The quick brown fox jumps over the lazy dog.'\n",
    "Searched words : 'fox', 'dog', 'horse'\n",
    "\n"
   ]
  },
  {
   "cell_type": "code",
   "execution_count": 25,
   "id": "161142d7",
   "metadata": {},
   "outputs": [
    {
     "name": "stdout",
     "output_type": "stream",
     "text": [
      "['fox', 'dog']\n"
     ]
    }
   ],
   "source": [
    "def search_literals(text, words):\n",
    "    found_words = []\n",
    "    for word in words:\n",
    "        if word in text:\n",
    "            found_words.append(word)\n",
    "    return found_words\n",
    "\n",
    "text = 'The quick brown fox jumps over the lazy dog.'\n",
    "search_words = ['fox', 'dog', 'horse']\n",
    "found_words = search_literals(text, search_words)\n",
    "print(found_words)"
   ]
  },
  {
   "cell_type": "markdown",
   "id": "5c1b5ea4",
   "metadata": {},
   "source": [
    "## Question 16- Write a Python program to search a literals string in a string and also find the location within the original string where the pattern occurs\n",
    "Sample text : 'The quick brown fox jumps over the lazy dog.'\n",
    "Searched words : 'fox'\n",
    "\n"
   ]
  },
  {
   "cell_type": "code",
   "execution_count": 26,
   "id": "8fa6d0ba",
   "metadata": {},
   "outputs": [
    {
     "name": "stdout",
     "output_type": "stream",
     "text": [
      "[16]\n"
     ]
    }
   ],
   "source": [
    "def search_literal_with_location(text, pattern):\n",
    "    found_locations = []\n",
    "    start = 0\n",
    "    while True:\n",
    "        index = text.find(pattern, start)\n",
    "        if index == -1:\n",
    "            break\n",
    "        found_locations.append(index)\n",
    "        start = index + 1\n",
    "    return found_locations\n",
    "\n",
    "text = 'The quick brown fox jumps over the lazy dog.'\n",
    "search_word = 'fox'\n",
    "found_locations = search_literal_with_location(text, search_word)\n",
    "print(found_locations)"
   ]
  },
  {
   "cell_type": "markdown",
   "id": "83ab4ec5",
   "metadata": {},
   "source": [
    "## Question 17- Write a Python program to find the substrings within a string.\n",
    "Sample text : 'Python exercises, PHP exercises, C# exercises'\n",
    "Pattern : 'exercises'.\n",
    "\n"
   ]
  },
  {
   "cell_type": "code",
   "execution_count": 27,
   "id": "85d493ba",
   "metadata": {},
   "outputs": [
    {
     "name": "stdout",
     "output_type": "stream",
     "text": [
      "['exercises', 'exercises']\n"
     ]
    }
   ],
   "source": [
    "def find_substrings(text, pattern):\n",
    "    substrings = re.findall(pattern, text)\n",
    "    return substrings\n",
    "\n",
    "text = 'Python exercises, PHP exercises, C# exercise'\n",
    "pattern = 'exercises'\n",
    "found_substrings = find_substrings(text, pattern)\n",
    "print(found_substrings)"
   ]
  },
  {
   "cell_type": "markdown",
   "id": "07497be7",
   "metadata": {},
   "source": [
    "## Question 18- Write a Python program to find the occurrence and position of the substrings within a string.\n",
    "\n"
   ]
  },
  {
   "cell_type": "code",
   "execution_count": 28,
   "id": "d66c9e97",
   "metadata": {},
   "outputs": [
    {
     "name": "stdout",
     "output_type": "stream",
     "text": [
      "Substring: exercises, Position: 7\n",
      "Substring: exercises, Position: 22\n",
      "Substring: exercises, Position: 36\n"
     ]
    }
   ],
   "source": [
    "def find_substring_occurrences(text, pattern):\n",
    "    occurrences = []\n",
    "    start = 0\n",
    "    while True:\n",
    "        index = text.find(pattern, start)\n",
    "        if index == -1:\n",
    "            break\n",
    "        occurrences.append((pattern, index))\n",
    "        start = index + 1\n",
    "    return occurrences\n",
    "\n",
    "text = 'Python exercises, PHP exercises, C# exercises'\n",
    "pattern = 'exercises'\n",
    "substring_occurrences = find_substring_occurrences(text, pattern)\n",
    "\n",
    "for substring, position in substring_occurrences:\n",
    "    print(\"Substring: {}, Position: {}\".format(substring, position))"
   ]
  },
  {
   "cell_type": "markdown",
   "id": "8c2ed79b",
   "metadata": {},
   "source": [
    "## Question 19- Write a Python program to convert a date of yyyy-mm-dd format to dd-mm-yyyy format.\n",
    "\n"
   ]
  },
  {
   "cell_type": "code",
   "execution_count": 29,
   "id": "2474ebe9",
   "metadata": {},
   "outputs": [
    {
     "name": "stdout",
     "output_type": "stream",
     "text": [
      "31-07-2022\n"
     ]
    }
   ],
   "source": [
    "def convert_date_format(date):\n",
    "    parts = date.split('-')\n",
    "    converted_date = parts[2] + '-' + parts[1] + '-' + parts[0]\n",
    "    return converted_date\n",
    "\n",
    "date = '2022-07-31'\n",
    "converted_date = convert_date_format(date)\n",
    "print(converted_date)"
   ]
  },
  {
   "cell_type": "markdown",
   "id": "88b08d2d",
   "metadata": {},
   "source": [
    "## Question 20- Write a Python program to find all words starting with 'a' or 'e' in a given string.\n",
    "\n"
   ]
  },
  {
   "cell_type": "code",
   "execution_count": 30,
   "id": "8adb108f",
   "metadata": {},
   "outputs": [
    {
     "name": "stdout",
     "output_type": "stream",
     "text": [
      "['apple', 'a', 'away', 'eggs', 'a']\n"
     ]
    }
   ],
   "source": [
    "def find_words_starting_with_a_or_e(text):\n",
    "    pattern = r'\\b[ae]\\w*'\n",
    "    words = re.findall(pattern, text)\n",
    "    return words\n",
    "\n",
    "text = \"An apple a day keeps the doctor away. Eating eggs is a good source of protein.\"\n",
    "matched_words = find_words_starting_with_a_or_e(text)\n",
    "print(matched_words)"
   ]
  },
  {
   "cell_type": "markdown",
   "id": "88d89734",
   "metadata": {},
   "source": [
    "## Question 21- Write a Python program to separate and print the numbers and their position of a given string.\n",
    "\n"
   ]
  },
  {
   "cell_type": "code",
   "execution_count": 31,
   "id": "23ecc83c",
   "metadata": {},
   "outputs": [
    {
     "name": "stdout",
     "output_type": "stream",
     "text": [
      "Number: 10, Position: 7\n",
      "Number: 5, Position: 21\n"
     ]
    }
   ],
   "source": [
    "def separate_numbers_and_positions(text):\n",
    "    pattern = r'\\d+'\n",
    "    numbers = re.findall(pattern, text)\n",
    "    positions = [match.start() for match in re.finditer(pattern, text)]\n",
    "\n",
    "    for number, position in zip(numbers, positions):\n",
    "        print(\"Number: {}, Position: {}\".format(number, position))\n",
    "\n",
    "text = \"I have 10 apples and 5 oranges.\"\n",
    "separate_numbers_and_positions(text)"
   ]
  },
  {
   "cell_type": "markdown",
   "id": "f75fbaeb",
   "metadata": {},
   "source": [
    "## Question 22- Write a regular expression in python program to extract maximum numeric value from a string\n",
    "\n"
   ]
  },
  {
   "cell_type": "code",
   "execution_count": 32,
   "id": "425b734d",
   "metadata": {},
   "outputs": [
    {
     "name": "stdout",
     "output_type": "stream",
     "text": [
      "1001\n"
     ]
    }
   ],
   "source": [
    "def extract_maximum_numeric_value(string):\n",
    "    pattern = r'\\b\\d+\\b'\n",
    "    numbers = re.findall(pattern, string)\n",
    "    if numbers:\n",
    "        maximum_value = max(map(int, numbers))\n",
    "        return maximum_value\n",
    "    else:\n",
    "        return None\n",
    "\n",
    "# Example usage\n",
    "string = \"The maximum value is 1001, but there are also 500 and 750.\"\n",
    "max_value = extract_maximum_numeric_value(string)\n",
    "print(max_value)"
   ]
  },
  {
   "cell_type": "markdown",
   "id": "ebd87e9e",
   "metadata": {},
   "source": [
    "## Question 23- Write a Regex in Python to put spaces between words starting with capital letters\n",
    "\n"
   ]
  },
  {
   "cell_type": "code",
   "execution_count": 33,
   "id": "42cd8860",
   "metadata": {},
   "outputs": [
    {
     "name": "stdout",
     "output_type": "stream",
     "text": [
      "This Is A Regular Expressions Example\n"
     ]
    }
   ],
   "source": [
    "def add_spaces_between_capital_words(text):\n",
    "    pattern = r'(?<!^)(?=[A-Z])'\n",
    "    modified_text = re.sub(pattern, ' ', text)\n",
    "    return modified_text\n",
    "\n",
    "text = \"ThisIsARegularExpressionsExample\"\n",
    "modified_text = add_spaces_between_capital_words(text)\n",
    "print(modified_text)"
   ]
  },
  {
   "cell_type": "markdown",
   "id": "8ac0ad06",
   "metadata": {},
   "source": [
    "## Question 24- Python regex to find sequences of one upper case letter followed by lower case letters\n",
    "\n"
   ]
  },
  {
   "cell_type": "code",
   "execution_count": 34,
   "id": "a74b80a0",
   "metadata": {},
   "outputs": [
    {
     "name": "stdout",
     "output_type": "stream",
     "text": [
      "['The', 'Quick', 'Fox', 'Lazy', 'Dog']\n"
     ]
    }
   ],
   "source": [
    "def find_sequences(text):\n",
    "    pattern = r'[A-Z][a-z]+'\n",
    "    sequences = re.findall(pattern, text)\n",
    "    return sequences\n",
    "\n",
    "text = \"The Quick brown Fox jumps over the Lazy Dog.\"\n",
    "found_sequences = find_sequences(text)\n",
    "print(found_sequences)"
   ]
  },
  {
   "cell_type": "markdown",
   "id": "8f5d32be",
   "metadata": {},
   "source": [
    "## Question 25- Write a Python program to remove duplicate words from Sentence using Regular Expression\n"
   ]
  },
  {
   "cell_type": "code",
   "execution_count": 48,
   "id": "927c3d4f",
   "metadata": {},
   "outputs": [
    {
     "name": "stdout",
     "output_type": "stream",
     "text": [
      "India is  one of the world's  most attractive countries.\n"
     ]
    }
   ],
   "source": [
    "def remove_duplicate_words(sentence):\n",
    "    pattern = r'\\b(\\w+)\\b(?=.*\\b\\1\\b)'\n",
    "    modified_sentence = re.sub(pattern, '', sentence)\n",
    "    return modified_sentence.strip()\n",
    "\n",
    "sentence = \"India is one one of the world's most most attractive countries.\"\n",
    "modified_sentence = remove_duplicate_words(sentence)\n",
    "print(modified_sentence)"
   ]
  },
  {
   "cell_type": "markdown",
   "id": "8f5efe81",
   "metadata": {},
   "source": [
    "## Question 26-  Write a python program using RegEx to accept string ending with alphanumeric character.\n",
    "\n"
   ]
  },
  {
   "cell_type": "code",
   "execution_count": 36,
   "id": "133cbcaf",
   "metadata": {},
   "outputs": [
    {
     "name": "stdout",
     "output_type": "stream",
     "text": [
      "Hello123: Accepted\n",
      "Python#: Rejected\n",
      "12345: Accepted\n",
      "abc@123: Accepted\n"
     ]
    }
   ],
   "source": [
    "def check_string_ending_alphanumeric(string):\n",
    "    pattern = r\".*[a-zA-Z0-9]$\"\n",
    "    match = re.match(pattern, string)\n",
    "    if match:\n",
    "        return True\n",
    "    else:\n",
    "        return False\n",
    "\n",
    "strings = [\"Hello123\", \"Python#\", \"12345\", \"abc@123\"]\n",
    "for string in strings:\n",
    "    if check_string_ending_alphanumeric(string):\n",
    "        print(f\"{string}: Accepted\")\n",
    "    else:\n",
    "        print(f\"{string}: Rejected\")"
   ]
  },
  {
   "cell_type": "markdown",
   "id": "c6053e21",
   "metadata": {},
   "source": [
    "## Question 27-Write a python program using RegEx to extract the hashtags.\n",
    "Sample Text: text = \"\"\"RT @kapil_kausik: #Doltiwal I mean #xyzabc is \"hurt\" by #Demonetization as the same has rendered USELESS <ed><U+00A0><U+00BD><ed><U+00B1><U+0089> \"acquired funds\" No wo\"\"\"\n",
    "Output: ['#Doltiwal', '#xyzabc', '#Demonetization']\n",
    "\n"
   ]
  },
  {
   "cell_type": "code",
   "execution_count": 37,
   "id": "02340760",
   "metadata": {},
   "outputs": [
    {
     "name": "stdout",
     "output_type": "stream",
     "text": [
      "['#Doltiwal', '#xyzabc', '#Demonetization']\n"
     ]
    }
   ],
   "source": [
    "def extract_hashtags(text):\n",
    "    pattern = r'#[^\\s#]+'\n",
    "    hashtags = re.findall(pattern, text)\n",
    "    return hashtags\n",
    "\n",
    "text = \"\"\"RT @kapil_kausik: #Doltiwal I mean #xyzabc is \"hurt\" by #Demonetization as the\n",
    "same has rendered USELESS <ed><U+00A0><U+00BD><ed><U+00B1><U+0089> \"acquired funds\" No\n",
    "wo\"\"\"\n",
    "hashtags = extract_hashtags(text)\n",
    "print(hashtags)"
   ]
  },
  {
   "cell_type": "markdown",
   "id": "a593515e",
   "metadata": {},
   "source": [
    "## Question 28- Write a python program using RegEx to remove <U+..> like symbols\n",
    "Check the below sample text, there are strange symbols something of the sort <U+..> all over the place. You need to come up with a general Regex expression that will cover all such symbols.\n",
    "Sample Text: \"@Jags123456 Bharat band on 28??<ed><U+00A0><U+00BD><ed><U+00B8><U+0082>Those who  are protesting #demonetization  are all different party leaders\"\n",
    "Output: @Jags123456 Bharat band on 28??<ed><ed>Those who  are protesting #demonetization  are all different party leaders\n",
    "\n"
   ]
  },
  {
   "cell_type": "code",
   "execution_count": 38,
   "id": "9e0c035a",
   "metadata": {},
   "outputs": [
    {
     "name": "stdout",
     "output_type": "stream",
     "text": [
      "@Jags123456 Bharat band on 28??<ed><ed>Those who are protesting #demonetization are all different party leaders\n"
     ]
    }
   ],
   "source": [
    "def remove_special_symbols(text):\n",
    "    pattern = r'<U\\+[A-Za-z0-9]+>'\n",
    "    modified_text = re.sub(pattern, '', text)\n",
    "    return modified_text\n",
    "\n",
    "text = \"@Jags123456 Bharat band on 28??<ed><U+00A0><U+00BD><ed><U+00B8><U+0082>Those who are protesting #demonetization are all different party leaders\"\n",
    "modified_text = remove_special_symbols(text)\n",
    "print(modified_text)"
   ]
  },
  {
   "cell_type": "markdown",
   "id": "c2652849",
   "metadata": {},
   "source": [
    "## Question 29- Write a python program to extract dates from the text stored in the text file.\n",
    "Sample Text: Ron was born on 12-09-1992 and he was admitted to school 15-12-1999.\n",
    "Store this sample text in the file and then extract dates.\n"
   ]
  },
  {
   "cell_type": "code",
   "execution_count": 44,
   "id": "1d921be2",
   "metadata": {},
   "outputs": [
    {
     "name": "stdout",
     "output_type": "stream",
     "text": [
      "['12-09-1992', '15-12-1999']\n"
     ]
    }
   ],
   "source": [
    "def extract_dates_from_file(filename):\n",
    "    dates = []\n",
    "    with open(filename, 'r') as file:\n",
    "        text = file.read()\n",
    "        pattern = r'\\d{2}-\\d{2}-\\d{4}'\n",
    "        dates = re.findall(pattern, text)\n",
    "    return dates\n",
    "\n",
    "filename = \"data_2.txt\"\n",
    "extracted_dates = extract_dates_from_file(filename)\n",
    "print(extracted_dates)"
   ]
  },
  {
   "cell_type": "markdown",
   "id": "db1a4d43",
   "metadata": {},
   "source": [
    "## Question 30- Write a Python program to replace all occurrences of a space, comma, or dot with a colon.\n",
    "Sample Text- 'Python Exercises, PHP exercises.'\n",
    "Output: Python:Exercises::PHP:exercises:\n"
   ]
  },
  {
   "cell_type": "code",
   "execution_count": 41,
   "id": "78f10100",
   "metadata": {},
   "outputs": [
    {
     "name": "stdout",
     "output_type": "stream",
     "text": [
      "Python:Exercises::PHP:exercises:\n"
     ]
    }
   ],
   "source": [
    "def replace_space_comma_dot_with_colon(text):\n",
    "    replaced_text = text.replace(' ', ':').replace(',', ':').replace('.', ':')\n",
    "    return replaced_text\n",
    "\n",
    "text = 'Python Exercises, PHP exercises.'\n",
    "modified_text = replace_space_comma_dot_with_colon(text)\n",
    "print(modified_text)"
   ]
  }
 ],
 "metadata": {
  "kernelspec": {
   "display_name": "Python 3 (ipykernel)",
   "language": "python",
   "name": "python3"
  },
  "language_info": {
   "codemirror_mode": {
    "name": "ipython",
    "version": 3
   },
   "file_extension": ".py",
   "mimetype": "text/x-python",
   "name": "python",
   "nbconvert_exporter": "python",
   "pygments_lexer": "ipython3",
   "version": "3.9.13"
  }
 },
 "nbformat": 4,
 "nbformat_minor": 5
}
